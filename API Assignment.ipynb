{
 "cells": [
  {
   "cell_type": "markdown",
   "id": "0d36b84c-8ccc-4eb9-b8a4-2024724529d8",
   "metadata": {},
   "source": [
    "# Q1. What is an API? Give an example, where an API is used in real life."
   ]
  },
  {
   "cell_type": "markdown",
   "id": "844aad22-1184-46c2-85c2-b8ba5c4331f6",
   "metadata": {},
   "source": [
    "An API is an 'Apllication program interfaces', an API consists of set of protocols and tools for building software applicationss it helps to communicate and interact with each other\n",
    "\n"
   ]
  },
  {
   "cell_type": "markdown",
   "id": "1b045bee-7663-40a5-943c-394d48574aac",
   "metadata": {},
   "source": [
    "For example:\n",
    "    social media integration:- In recent days social media become a most essinatial thing  in human life without social media we even can't know wt is happing ourrendings to us, like tweets in twitter and stories in Instagram for all purpose we need a interfaces wich every can use it,because the api's(apps) were build by programmers the problem is that not everyone can understand programming language for this  purpose the idea of API comes into existance, "
   ]
  },
  {
   "cell_type": "markdown",
   "id": "ae5d945a-097d-4f9b-9be3-790523906e1f",
   "metadata": {},
   "source": [
    "IN REAL LIFE:\n",
    "    We use enourmus number of apps for various purpose such as for 'odering food','shopping','playing games','communication','entertainment ' and many others, for all these purpose we need a common interfaces that wich can undersstand by everyone"
   ]
  },
  {
   "cell_type": "markdown",
   "id": "81544831-6358-4227-a78b-2e8874e6dc2c",
   "metadata": {},
   "source": [
    "# Q2. Give advantages and disadvantages of using API."
   ]
  },
  {
   "cell_type": "markdown",
   "id": "97bad030-a250-46c3-adfd-f7dd0857c850",
   "metadata": {},
   "source": [
    "## ADVANTAGES:\n",
    "##### 1) api's provides a common interface for everyone\n",
    "##### 2) not everyone can under stand programming language hence API's are best  solution for that\n",
    "##### 3)Reusability and Modularity \n",
    "##### 4)Interoperability: APIs enable different software systems to communicate and interact with each other seamlessly. \n",
    "##### 5)Scalability and Flexibility and Rapid Development"
   ]
  },
  {
   "cell_type": "markdown",
   "id": "218f290f-345a-41b4-81e5-dbe481d32664",
   "metadata": {},
   "source": [
    "## DISADVANTAGES:\n",
    "##### Dependency on External Services\n",
    "##### Scalability and Flexibility\n",
    "##### Rapid Development\n",
    "##### Lack of Control\n",
    "##### Compatibility Issues\n",
    "##### Security and Privacy Concerns\n"
   ]
  },
  {
   "cell_type": "markdown",
   "id": "0dcafa92-1319-4247-9d6d-f767377e4c79",
   "metadata": {},
   "source": [
    "# Q3. What is a Web API? Differentiate between API and Web API."
   ]
  },
  {
   "cell_type": "markdown",
   "id": "8f3634a5-1d37-4add-a9ea-d0f087de7faa",
   "metadata": {},
   "source": [
    "wEB API:\n",
    "\n",
    "A Web API, also known as a web service or HTTP API, is an application programming interface specifically designed to be accessed over the web using the Hypertext Transfer Protocol (HTTP).\n",
    "    "
   ]
  },
  {
   "cell_type": "markdown",
   "id": "b80196d4-a535-4afd-82c6-3268783d02f9",
   "metadata": {},
   "source": [
    "## Differentiate between API and Web API."
   ]
  },
  {
   "cell_type": "markdown",
   "id": "2bdff11c-34ce-47a2-a0ff-2bb703a0e269",
   "metadata": {},
   "source": [
    "### API (Application Programming Interface):\n",
    "\n",
    "An API is a general term that refers to a set of rules and protocols that allow different software applications to communicate and interact with each other.\n",
    "\n",
    "APIs can be implemented using various protocols and technologies, including HTTP, SOAP, REST, RPC, etc.\n",
    "\n",
    "APIs can be used for various purposes, including accessing functionalities, retrieving data, integrating services, and more.\n",
    "\n",
    "APIs can be used in different contexts, including desktop applications, mobile apps, embedded systems, databases, and more.\n",
    "\n",
    "### Web API (Web Service or HTTP API):\n",
    "A Web API is a specific type of API that is designed to be accessed over the web using HTTP.\n",
    "\n",
    "Web APIs are typically implemented using REST (Representational State Transfer) architecture, which leverages standard HTTP methods (GET, POST, PUT, DELETE) for different operations on resources.\n",
    "\n",
    "Web APIs often use JSON (JavaScript Object Notation) or XML (eXtensible Markup Language) for data exchange formats.\n",
    "\n",
    "Web APIs are commonly used in web development to expose functionalities and data of web applications to other systems, allowing them to interact and consume the provided services"
   ]
  },
  {
   "cell_type": "markdown",
   "id": "4280e313-51da-41a2-a3c3-7f56a0758b52",
   "metadata": {},
   "source": [
    "# Q4. Explain REST and SOAP Architecture. Mention shortcomings of SOAP."
   ]
  },
  {
   "cell_type": "markdown",
   "id": "78f004cc-f9cc-46c9-ace1-194ebbf6e941",
   "metadata": {},
   "source": [
    "## REST Architecture:\n",
    "\n",
    "1)'REPRENSTATIONAL STATE TRANSFER' IS FULLFORM OF REST\n",
    "\n",
    "2)IT USES HTTP METHODS FOR PERFORMINNG TASKS\n",
    "\n",
    "3)IT IS ESAY TO IMPLEMENT \n",
    "\n",
    "4)IT HAS LARGE SCALABILITY \n",
    "\n",
    "5)DRAWBACK:SECURE BUT LESS SECURE"
   ]
  },
  {
   "cell_type": "markdown",
   "id": "3eced5af-fc9b-41e4-aa31-d0becb8d07ea",
   "metadata": {},
   "source": [
    "## SOAP Architecture:\n",
    "    \n",
    "1)'SIMPLE OBJECT AACCESS PROTOCOL' \n",
    "\n",
    "2)XML BASED MESSAGE TO EXCHANGE INFORMATION\n",
    "\n",
    "3) COMPLEX TO IMPLEMENT \n",
    "\n",
    "4) MOST SECURE COMPARED TO REST\n",
    "\n",
    "5) DATA TYPEING AND ERROR HANDLING FEAAUTRES \n",
    "\n"
   ]
  },
  {
   "cell_type": "markdown",
   "id": "5020c90a-2196-473a-9a8b-d11af5ed6724",
   "metadata": {},
   "source": [
    "# Q5. Differentiate between REST and SOAP."
   ]
  },
  {
   "cell_type": "markdown",
   "id": "f115ae60-e817-4ef1-9817-2797ebd48d7c",
   "metadata": {},
   "source": [
    "### BOTH ARE DIFFRENTE TYPES OF WEB API'S "
   ]
  },
  {
   "cell_type": "markdown",
   "id": "0319c411-8f6c-481a-be11-8bcf65bfca52",
   "metadata": {},
   "source": [
    "\n",
    "\n",
    "Architecture:\n",
    "\n",
    "REST: REST is an architectural style that uses stateless, client-server communication over the web. It emphasizes scalability, simplicity, and resource-based interactions. RESTful APIs utilize standard HTTP methods (GET, POST, PUT, DELETE) for performing operations on resources.\n",
    "SOAP: SOAP is a protocol that defines a set of rules for exchanging structured information in web services. It follows a more complex and rigid architecture, involving XML-based messaging and a heavier reliance on protocols like HTTP, SMTP, or JMS.\n",
    "Data Format:\n",
    "\n",
    "REST: REST commonly uses lightweight data formats like JSON (JavaScript Object Notation) or XML for data exchange. JSON is more popular due to its simplicity and efficiency for web-based communication.\n",
    "SOAP: SOAP relies heavily on XML for structuring messages. It requires the use of XML-based schemas (WSDL) to define the structure and types of data being exchanged.\n",
    "Messaging Style:\n",
    "\n",
    "REST: REST is based on the principles of statelessness, meaning each request from the client to the server must contain all the necessary information. The server does not maintain any client state between requests.\n",
    "SOAP: SOAP supports stateful or stateless communication. It allows for more complex message exchange patterns, such as request/response, one-way messaging, or asynchronous messaging.\n",
    "Transport Protocol:\n",
    "\n",
    "REST: RESTful APIs often use the HTTP protocol for communication. It leverages standard HTTP methods and status codes for different operations and follows the principles of the web.\n",
    "SOAP: SOAP can utilize various protocols for transport, including HTTP, SMTP, or JMS. It adds an additional layer of abstraction on top of the underlying protocol.\n",
    "Error Handling:\n",
    "\n",
    "REST: RESTful APIs typically use HTTP status codes to indicate the success or failure of a request. Error details are often included in the response body using standard formats like JSON or XML.\n",
    "SOAP: SOAP defines a standardized error handling mechanism using the SOAP Fault element. It provides more detailed error information, including error codes, descriptions, and stack traces.\n",
    "Flexibility:\n",
    "\n",
    "REST: REST offers more flexibility and loose coupling between the client and server. It allows for a more lightweight and resource-oriented approach, making it suitable for scalable and distributed systems.\n",
    "SOAP: SOAP provides a stricter contract-based approach, with the use of WSDL (Web Services Description Language) to define the interface and XML schemas. This makes it more suitable for enterprise-level systems and scenarios where strong typing and formal contracts are necessary."
   ]
  },
  {
   "cell_type": "code",
   "execution_count": null,
   "id": "c1f95fc2-05b6-4a15-ab1e-dd505421912b",
   "metadata": {},
   "outputs": [],
   "source": []
  }
 ],
 "metadata": {
  "kernelspec": {
   "display_name": "Python 3 (ipykernel)",
   "language": "python",
   "name": "python3"
  },
  "language_info": {
   "codemirror_mode": {
    "name": "ipython",
    "version": 3
   },
   "file_extension": ".py",
   "mimetype": "text/x-python",
   "name": "python",
   "nbconvert_exporter": "python",
   "pygments_lexer": "ipython3",
   "version": "3.10.8"
  }
 },
 "nbformat": 4,
 "nbformat_minor": 5
}
