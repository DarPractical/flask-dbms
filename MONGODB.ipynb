{
 "cells": [
  {
   "cell_type": "markdown",
   "id": "d08ff632-4ce7-4d05-a9ad-08ae178268ef",
   "metadata": {},
   "source": [
    "# Q1. What is MongoDB? Explain non-relational databases in short. In which scenarios it is preferred to use MongoDB over SQL databases?"
   ]
  },
  {
   "cell_type": "markdown",
   "id": "63b0030e-122f-474f-baa4-f77bb7ace30c",
   "metadata": {},
   "source": [
    "### MongoDB is a popular NoSQL (non-relational) database that provides a flexible and scalable approach to storing and managing data. It is designed to handle unstructured or semi-structured data and offers a document-oriented model, where data is stored in flexible and schema-less documents in the form of BSON (Binary JSON).\n",
    "\n",
    "Non-relational databases, including MongoDB, differ from traditional SQL databases (relational databases) in several ways:\n",
    "\n",
    "Data Model: Non-relational databases use various data models such as key-value, document-oriented, columnar, or graph-based, whereas SQL databases follow a structured, tabular model with predefined schemas.\n",
    "\n",
    "Scalability: Non-relational databases are highly scalable, allowing for horizontal scaling by distributing data across multiple servers or clusters. This makes them well-suited for handling large volumes of data and high traffic loads.\n",
    "\n",
    "Flexibility: Non-relational databases provide flexibility in data representation, as they do not require a fixed schema. Fields within a document can vary, and new fields can be added without modifying the entire dataset. This agility is beneficial for evolving data models and applications.\n",
    "\n",
    "Performance: Non-relational databases often offer faster read and write performance compared to SQL databases. They optimize data retrieval by storing related information together, reducing the need for complex joins.\n",
    "\n",
    "### When considering scenarios where MongoDB is preferred over SQL databases, the following factors come into play:\n",
    "\n",
    "Unstructured Data: MongoDB excels at handling unstructured or semi-structured data, such as JSON-like documents, log files, user-generated content, or IoT data. It allows for flexible schema design and easily accommodates evolving data structures.\n",
    "\n",
    "High Scalability: MongoDB's distributed architecture and automatic sharding support make it a good choice for applications with rapidly growing data volumes or heavy read/write loads. It enables horizontal scaling across multiple nodes, ensuring high availability and performance.\n",
    "\n",
    "Real-time Analytics: MongoDB's query capabilities, including aggregation pipelines and indexing options, make it suitable for real-time analytics and data processing scenarios. It allows for complex data manipulations and analysis.\n",
    "\n",
    "Rapid Development: MongoDB's flexible schema and easy integration with popular programming languages make it a developer-friendly database. It supports dynamic queries, ad hoc updates, and rapid prototyping, which can expedite the development process.\n",
    "\n",
    "Use Cases Requiring Flexibility: MongoDB is often preferred for projects with changing requirements or evolving data models. Its schema-less design and dynamic nature make it more adaptable to frequent updates and iterations."
   ]
  },
  {
   "cell_type": "markdown",
   "id": "6a75a254-d04a-4a32-8375-56bbc9eecc28",
   "metadata": {},
   "source": [
    "# Q2. State and Explain the features of MongoDB."
   ]
  },
  {
   "cell_type": "markdown",
   "id": "da0d16d8-02a9-452a-af69-4fc0fb81455f",
   "metadata": {},
   "source": [
    "MongoDB is a popular NoSQL database with a document-oriented data model. It offers a flexible schema, scalability, and high performance. Key features include a document-oriented data model, flexible schema, scalability, indexing and querying capabilities, high availability through replication, full-text search, geospatial indexing, a powerful aggregation framework, easy integration with programming languages, and enterprise-grade security. These features make MongoDB suitable for applications that require flexible data structures, scalability, high performance, and advanced querying capabilities"
   ]
  },
  {
   "cell_type": "markdown",
   "id": "352f6871-3587-4c46-a759-30faadd3ec20",
   "metadata": {},
   "source": [
    "# Q3. Write a code to connect MongoDB to Python. Also, create a database and a collection in MongoDB."
   ]
  },
  {
   "cell_type": "markdown",
   "id": "011c79e8-625d-4d07-b490-fe7a2e705b52",
   "metadata": {},
   "source": [
    "\n",
    "\n",
    "### Establish a connection to MongoDB\n",
    "client = MongoClient(\"mongodb://localhost:27017\")  # Replace with your MongoDB connection string\n",
    "\n",
    "### Create a new database\n",
    "database = client[\"mydatabase\"]  # Replace \"mydatabase\" with your preferred database name\n",
    "\n",
    "### Create a new collection within the database\n",
    "collection = database[\"mycollection\"]  # Replace \"mycollection\" with your preferred collection name\n",
    "\n",
    "### Perform operations on the collection\n",
    "collection.insert_one({\"name\": \"John\", \"age\": 30})  # Insert a document into the collection\n",
    "\n",
    "### Close the MongoDB connection\n",
    "client.close()\n"
   ]
  },
  {
   "cell_type": "markdown",
   "id": "9dc8e0de-b7a3-4315-936c-5556038145fa",
   "metadata": {},
   "source": [
    "# Q4. Using the database and the collection created in question number 3, write a code to insert one record and insert many records. Use the find() and find_one() methods to print the inserted record."
   ]
  },
  {
   "cell_type": "markdown",
   "id": "a63e3be6-aa61-442a-9b3d-dbc5e1c05e6d",
   "metadata": {},
   "source": [
    "from pymongo import MongoClient\n",
    "\n",
    "### Establish a connection to MongoDB\n",
    "client = MongoClient(\"mongodb://localhost:27017\")  # Replace with your MongoDB connection string\n",
    "\n",
    "### Access the database and collection\n",
    "database = client[\"mydatabase\"]  # Replace \"mydatabase\" with your database name\n",
    "collection = database[\"mycollection\"]  # Replace \"mycollection\" with your collection name\n",
    "\n",
    "### Insert one record\n",
    "record_one = {\"name\": \"Alice\", \"age\": 25}\n",
    "result_one = collection.insert_one(record_one)\n",
    "print(\"Inserted Record ID:\", result_one.inserted_id)\n",
    "\n",
    "### Insert multiple records\n",
    "records_many = [\n",
    "    {\"name\": \"Bob\", \"age\": 30},\n",
    "    {\"name\": \"Charlie\", \"age\": 35},\n",
    "    {\"name\": \"Dave\", \"age\": 40}\n",
    "]\n",
    "result_many = collection.insert_many(records_many)\n",
    "print(\"Inserted Records IDs:\", result_many.inserted_ids)\n",
    "\n",
    "### Find and print the inserted records\n",
    "print(\"Inserted Record (find_one):\", collection.find_one({\"name\": \"Alice\"}))\n",
    "print(\"Inserted Records (find):\")\n",
    "for record in collection.find():\n",
    "    print(record)\n",
    "\n",
    "### Close the MongoDB connection\n",
    "client.close()\n"
   ]
  },
  {
   "cell_type": "markdown",
   "id": "08d44ccc-7271-4ca2-b4d3-d65dfbc7043a",
   "metadata": {},
   "source": [
    "# Q5. Explain how you can use the find() method to query the MongoDB database. Write a simple code to demonstrate this."
   ]
  },
  {
   "cell_type": "markdown",
   "id": "6b595ce6-7c52-4bd1-9789-ab405b29e0ce",
   "metadata": {},
   "source": [
    "The find() method in MongoDB is used to query the database and retrieve documents that match the specified criteria. It allows you to filter documents based on specific conditions and retrieve the matching result"
   ]
  },
  {
   "cell_type": "markdown",
   "id": "b3b4d5de-5297-4a78-ac5e-18d9893f413e",
   "metadata": {},
   "source": [
    "from pymongo import MongoClient\n",
    "\n",
    "# Establish a connection to MongoDB\n",
    "client = MongoClient(\"mongodb://localhost:27017\")  # Replace with your MongoDB connection string\n",
    "\n",
    "# Access the database and collection\n",
    "database = client[\"mydatabase\"]  # Replace \"mydatabase\" with your database name\n",
    "collection = database[\"mycollection\"]  # Replace \"mycollection\" with your collection name\n",
    "\n",
    "# Perform a find query\n",
    "query = {\"age\": {\"$gt\": 30}}  # Find documents where age is greater than 30\n",
    "results = collection.find(query)\n",
    "\n",
    "# Print the matching documents\n",
    "for document in results:\n",
    "    print(document)\n",
    "\n",
    "# Close the MongoDB connection\n",
    "client.close()\n"
   ]
  },
  {
   "cell_type": "markdown",
   "id": "7b0acbc0-02dd-4554-a3bd-299dbb3a17ef",
   "metadata": {},
   "source": [
    "# Q6. Explain the sort() method. Give an example to demonstrate sorting in MongoDB."
   ]
  },
  {
   "cell_type": "markdown",
   "id": "660aa895-5fa2-4459-bda5-c6db2f1b5af9",
   "metadata": {},
   "source": [
    "The sort() method in MongoDB is used to sort the documents in a collection based on one or more fields. It allows you to specify the sorting order, either in ascending or descending order, for the specified fields."
   ]
  },
  {
   "cell_type": "markdown",
   "id": "53e39e40-b4eb-4e35-b3e1-14a7c29487c7",
   "metadata": {},
   "source": [
    "from pymongo import MongoClient\n",
    "\n",
    "# Establish a connection to MongoDB\n",
    "client = MongoClient(\"mongodb://localhost:27017\")  # Replace with your MongoDB connection string\n",
    "\n",
    "# Access the database and collection\n",
    "database = client[\"mydatabase\"]  # Replace \"mydatabase\" with your database name\n",
    "collection = database[\"mycollection\"]  # Replace \"mycollection\" with your collection name\n",
    "\n",
    "# Perform a sort query\n",
    "sort_criteria = [(\"age\", 1), (\"name\", -1)]  # Sort by age in ascending order and name in descending order\n",
    "results = collection.find().sort(sort_criteria)\n",
    "\n",
    "# Print the sorted documents\n",
    "for document in results:\n",
    "    print(document)\n",
    "\n",
    "# Close the MongoDB connection\n",
    "client.close()\n"
   ]
  },
  {
   "cell_type": "markdown",
   "id": "950c0b6c-cd4c-47db-bf90-fb9d2052fb25",
   "metadata": {},
   "source": [
    "# Q7. Explain why delete_one(), delete_many(), and drop() is used."
   ]
  },
  {
   "cell_type": "code",
   "execution_count": null,
   "id": "f0970de2-182e-47c8-a3ff-c21511a6234d",
   "metadata": {},
   "outputs": [],
   "source": []
  }
 ],
 "metadata": {
  "kernelspec": {
   "display_name": "Python 3 (ipykernel)",
   "language": "python",
   "name": "python3"
  },
  "language_info": {
   "codemirror_mode": {
    "name": "ipython",
    "version": 3
   },
   "file_extension": ".py",
   "mimetype": "text/x-python",
   "name": "python",
   "nbconvert_exporter": "python",
   "pygments_lexer": "ipython3",
   "version": "3.10.8"
  }
 },
 "nbformat": 4,
 "nbformat_minor": 5
}
