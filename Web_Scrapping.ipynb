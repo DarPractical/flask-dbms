{
 "cells": [
  {
   "cell_type": "markdown",
   "id": "33558973-4837-45a4-aedd-d5c3d7d28fcb",
   "metadata": {},
   "source": [
    "# Q1. What is Web Scraping? Why is it Used? Give three areas where Web Scraping is used to get data."
   ]
  },
  {
   "cell_type": "markdown",
   "id": "3d3277a3-03a0-4923-87b4-e6ffd6bef03c",
   "metadata": {},
   "source": [
    "### Web scraping is the automated process of extracting data from websites. It involves using software tools or programming languages to navigate web pages, retrieve the desired data, and store it for further analysis or use.\n",
    "\n",
    "## Web scraping is used for several reasons, including:\n",
    "\n",
    "### Data Collection and Analysis: Web scraping allows organizations or individuals to gather large amounts of data from various websites quickly. This data can be used for market research, competitor analysis, sentiment analysis, price monitoring, and other purposes.\n",
    "\n",
    "### Research and Academic Purposes: Web scraping is utilized in research fields to gather data for analysis and study. Researchers can collect information from multiple sources, such as scientific publications, online databases, or social media, to conduct studies and draw insights.\n",
    "\n",
    "### Business Intelligence: Companies can use web scraping to gather data about their industry, competitors, or potential customers. By extracting data from websites, businesses can monitor market trends, track pricing information, collect customer reviews, and obtain other valuable insights to make informed business decisions.\n",
    "\n",
    "## Three specific areas where web scraping is commonly used are:\n",
    "\n",
    "### a. E-commerce: Web scraping is extensively employed in the e-commerce industry to monitor competitors' prices, track product availability, analyze customer reviews, and gather product information. It helps businesses stay competitive by providing real-time data on pricing strategies and market trends.\n",
    "\n",
    "### b. Financial Services: Financial institutions and investors utilize web scraping to collect data from financial news websites, stock exchanges, or other sources. This data is then analyzed to make informed investment decisions, track market trends, and identify patterns or opportunities in the financial markets.\n",
    "\n",
    "### c. Social Media Monitoring: Web scraping is employed to gather data from social media platforms such as Twitter, Facebook, or Instagram. It allows businesses to monitor brand mentions, analyze customer sentiment, track social media trends, and gain insights into their target audience's preferences and behavior."
   ]
  },
  {
   "cell_type": "markdown",
   "id": "012342f7-bd69-4a0e-a0bb-a109aba51780",
   "metadata": {},
   "source": [
    "# Q5. Write the names of AWS services used in this project. Also, explain the use of each service."
   ]
  },
  {
   "cell_type": "markdown",
   "id": "40a28b0a-b427-4f7a-b4c5-42d0aba55ca6",
   "metadata": {},
   "source": [
    "AWS provides a service called AWS CodePipeline, which is a fully managed CI/CD service. CodePipeline helps you build, test, and deploy your applications by creating a visual representation of your software release process, known as a pipeline."
   ]
  },
  {
   "cell_type": "code",
   "execution_count": null,
   "id": "261f5956-1138-495b-b052-2d348118d17e",
   "metadata": {},
   "outputs": [
    {
     "ename": "SyntaxError",
     "evalue": "invalid syntax (2664239738.py, line 1)",
     "output_type": "error",
     "traceback": [
      "\u001b[0;36m  Cell \u001b[0;32mIn[1], line 1\u001b[0;36m\u001b[0m\n\u001b[0;31m    AWS provides a service called AWS CodePipeline, which is a fully managed CI/CD service. CodePipeline helps you build, test, and deploy your applications by creating a visual representation of your software release process, known as a pipeline.\u001b[0m\n\u001b[0m        ^\u001b[0m\n\u001b[0;31mSyntaxError\u001b[0m\u001b[0;31m:\u001b[0m invalid syntax\n"
     ]
    }
   ],
   "source": [
    "AWS provides a service called AWS CodePipeline, which is a fully managed CI/CD service. CodePipeline helps you build, test, and deploy your applications by creating a visual representation of your software release process, known as a pipeline."
   ]
  },
  {
   "cell_type": "code",
   "execution_count": null,
   "id": "f388419a-b1fc-408f-84ea-23ca6689d1ba",
   "metadata": {},
   "outputs": [],
   "source": []
  }
 ],
 "metadata": {
  "kernelspec": {
   "display_name": "Python 3 (ipykernel)",
   "language": "python",
   "name": "python3"
  },
  "language_info": {
   "codemirror_mode": {
    "name": "ipython",
    "version": 3
   },
   "file_extension": ".py",
   "mimetype": "text/x-python",
   "name": "python",
   "nbconvert_exporter": "python",
   "pygments_lexer": "ipython3",
   "version": "3.10.8"
  }
 },
 "nbformat": 4,
 "nbformat_minor": 5
}
